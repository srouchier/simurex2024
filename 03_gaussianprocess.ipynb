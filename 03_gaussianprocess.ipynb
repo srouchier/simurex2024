{
 "cells": [
  {
   "cell_type": "code",
   "execution_count": null,
   "id": "10070825-2f0c-4de5-9ab1-a0770c693ab9",
   "metadata": {},
   "outputs": [],
   "source": [
    "Intro : liens\n",
    "\n",
    "avec les données building_1298 compteur 0\n",
    "\n",
    "* [pymc](https://www.pymc.io/projects/docs/en/stable/learn/core_notebooks/Gaussian_Processes.html)\n",
    "* "
   ]
  }
 ],
 "metadata": {
  "kernelspec": {
   "display_name": "Python 3 (ipykernel)",
   "language": "python",
   "name": "python3"
  },
  "language_info": {
   "codemirror_mode": {
    "name": "ipython",
    "version": 3
   },
   "file_extension": ".py",
   "mimetype": "text/x-python",
   "name": "python",
   "nbconvert_exporter": "python",
   "pygments_lexer": "ipython3",
   "version": "3.11.8"
  }
 },
 "nbformat": 4,
 "nbformat_minor": 5
}
