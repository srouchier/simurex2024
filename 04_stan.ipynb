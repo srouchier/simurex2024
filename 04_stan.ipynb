{
 "cells": [
  {
   "cell_type": "markdown",
   "id": "5eb6a73e-235c-4fd3-b32f-f741c8cf6479",
   "metadata": {},
   "source": [
    "# Introduction to Stan\n",
    "\n",
    "[Stan](https://mc-stan.org/) is my personal favorite library for probabilistic modelling. It may appear more difficult to get into than PyMC, but in my opinion becomes easier and more flexible to use as you start increasing model complexity.\n",
    "\n",
    "Stan interfaces with the most popular data analysis languages (R, Python, Julia and others). I chose to focus most on this workshop on PyMC, but you may find here some links and instructions on how to get started with Stan\n",
    "\n",
    "## Using Stan with R\n",
    "\n",
    "* RStan is the R interface to Stan. The installation instructions on all operating systems are [here](https://mc-stan.org/users/interfaces/rstan.html).\n",
    "* I give an introduction to Stan applied to measurement and verification [here](https://srouchier.github.io/bayesmv/index.html) with examples in R.\n",
    "\n",
    "## Using Stan with Python\n",
    "\n",
    "\n",
    "To install Stan on Windows :\n",
    "https://pystan2.readthedocs.io/en/latest/windows.html\n",
    "\n",
    "tutorial 1"
   ]
  },
  {
   "cell_type": "code",
   "execution_count": null,
   "id": "eab0ccf8-7a50-4823-9bc6-2a55ecd7c3ae",
   "metadata": {},
   "outputs": [],
   "source": []
  },
  {
   "cell_type": "markdown",
   "id": "ca23b33a-5a18-4693-a904-14dbd40b1a32",
   "metadata": {},
   "source": [
    "tutorial 2"
   ]
  },
  {
   "cell_type": "code",
   "execution_count": null,
   "id": "0c70aede-64c4-4378-a4cb-f92dde9f88a6",
   "metadata": {},
   "outputs": [],
   "source": []
  }
 ],
 "metadata": {
  "kernelspec": {
   "display_name": "Python 3 (ipykernel)",
   "language": "python",
   "name": "python3"
  },
  "language_info": {
   "codemirror_mode": {
    "name": "ipython",
    "version": 3
   },
   "file_extension": ".py",
   "mimetype": "text/x-python",
   "name": "python",
   "nbconvert_exporter": "python",
   "pygments_lexer": "ipython3",
   "version": "3.11.8"
  }
 },
 "nbformat": 4,
 "nbformat_minor": 5
}
