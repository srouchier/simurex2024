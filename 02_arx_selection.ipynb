{
 "cells": [
  {
   "cell_type": "markdown",
   "id": "f7fcd3c5-6202-4fa2-95ce-35b4002a0c81",
   "metadata": {},
   "source": [
    "# Model comparison with pymc: application to ARX models\n",
    "\n",
    "[pymc notebook on model comparison](https://www.pymc.io/projects/docs/en/stable/learn/core_notebooks/model_comparison.html)\n",
    "\n",
    "sinon plus simple"
   ]
  },
  {
   "cell_type": "code",
   "execution_count": null,
   "id": "39339f04-1545-4242-a974-3e69afbe79c8",
   "metadata": {},
   "outputs": [],
   "source": []
  },
  {
   "cell_type": "code",
   "execution_count": null,
   "id": "63eb6844-eee9-43f5-ae71-cc9716cb0724",
   "metadata": {},
   "outputs": [],
   "source": [
    "with pm.Model() as ar1:\n",
    "    # assumes 95% of prob mass is between -2 and 2\n",
    "    rho = pm.Normal(\"rho\", mu=0.0, sigma=1.0, shape=2)\n",
    "    # precision of the innovation term\n",
    "    tau = pm.Exponential(\"tau\", lam=0.5)\n",
    "\n",
    "    likelihood = pm.AR(\n",
    "        \"y\", rho=rho, tau=tau, constant=True, init_dist=pm.Normal.dist(0, 10), observed=y\n",
    "    )\n",
    "\n",
    "    idata = pm.sample(1000, tune=2000, random_seed=RANDOM_SEED)\n"
   ]
  },
  {
   "cell_type": "code",
   "execution_count": null,
   "id": "dade92fe-7aa6-46a8-b751-9659c7a23fda",
   "metadata": {},
   "outputs": [],
   "source": [
    "with pm.Model() as ar2:\n",
    "    rho = pm.Normal(\"rho\", 0.0, 1.0, shape=3)\n",
    "    sigma = pm.HalfNormal(\"sigma\", 3)\n",
    "    likelihood = pm.AR(\n",
    "        \"y\", rho=rho, sigma=sigma, constant=True, init_dist=pm.Normal.dist(0, 10), observed=y\n",
    "    )\n",
    "\n",
    "    idata = pm.sample(\n",
    "        1000,\n",
    "        tune=2000,\n",
    "        random_seed=RANDOM_SEED,\n",
    "    )"
   ]
  }
 ],
 "metadata": {
  "kernelspec": {
   "display_name": "Python 3 (ipykernel)",
   "language": "python",
   "name": "python3"
  },
  "language_info": {
   "codemirror_mode": {
    "name": "ipython",
    "version": 3
   },
   "file_extension": ".py",
   "mimetype": "text/x-python",
   "name": "python",
   "nbconvert_exporter": "python",
   "pygments_lexer": "ipython3",
   "version": "3.11.8"
  }
 },
 "nbformat": 4,
 "nbformat_minor": 5
}
